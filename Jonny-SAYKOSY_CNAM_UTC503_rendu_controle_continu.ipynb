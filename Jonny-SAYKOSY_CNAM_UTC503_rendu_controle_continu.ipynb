{
 "cells": [
  {
   "cell_type": "markdown",
   "id": "5244c14d",
   "metadata": {},
   "source": [
    "***Auditeur: Jonny SAYKOSY, UTC 503, Pour le: 10/06/2023***\n",
    "\n",
    "\n",
    "# Controle continu - compter les mots (à rendre)\n",
    "\n",
    "## Énoncé \n",
    "\n",
    "Ecrire une fonction map_reduce(phrases) qui renvoie chaque mot avec son occurence sous forme de dictionnaire.\n",
    "\n",
    "On testera avec la fable de La Fontaine \"la cigale et la fourmi\" jointe ci-dessous ou au format fichier.\n",
    "Dans une première étape on cherchera à nettoyer (préparer) les données par une fonction preprocessing(chaine) qui prend en entrée le texte et renvoie la liste des mots du texte ainsi nettoyés :\n",
    "\n",
    "- la ponctuation ne doit pas compter comme mots\n",
    "- les mots séparés par des tirets doivent compter commme autant de mots\n",
    "- les mots contractés seront remplacés par leur équivalent non contractés :\n",
    "`'d':'de', 's':'se', 'l':'le', 'j':'je', 'n':'ne', 'c':'ce'`\n",
    "\n",
    "### Texte :"
   ]
  },
  {
   "cell_type": "code",
   "execution_count": 8,
   "id": "6a23d37c",
   "metadata": {},
   "outputs": [],
   "source": [
    "ch = '''\n",
    "     La Cigale, ayant chanté\n",
    "     Tout l'Été,\n",
    "     Se trouva fort dépourvue\n",
    "     Quand la bise fut venue.\n",
    "    Pas un seul petit morceau\n",
    "    De mouche ou de vermisseau.\n",
    "    Elle alla crier famine\n",
    "    Chez la Fourmi sa voisine,\n",
    "    La priant de lui prêter\n",
    "    Quelque grain pour subsister\n",
    "    Jusqu'à la saison nouvelle.\n",
    "    Je vous paierai, lui dit-elle,\n",
    "    Avant l'Oût, foi d'animal,\n",
    "    Intérêt et principal.\n",
    "    La Fourmi n'est pas prêteuse ;\n",
    "    C'est là son moindre défaut.\n",
    "    « Que faisiez-vous au temps chaud ?\n",
    "    Dit-elle à cette emprunteuse.\n",
    "    — Nuit et jour à tout venant\n",
    "    Je chantais, ne vous déplaise.\n",
    "    — Vous chantiez ? j'en suis fort aise.\n",
    "    Eh bien !dansez maintenant. »\n",
    "  '''"
   ]
  },
  {
   "cell_type": "markdown",
   "id": "ba23590d",
   "metadata": {},
   "source": [
    "Jean de La Fontaine, Les fables de La Fontaine"
   ]
  },
  {
   "cell_type": "markdown",
   "id": "377b8047",
   "metadata": {},
   "source": [
    "## Réponse"
   ]
  },
  {
   "cell_type": "code",
   "execution_count": 9,
   "id": "2579b8e3",
   "metadata": {},
   "outputs": [],
   "source": [
    "import re\n",
    "\n",
    "def map_reduce(phrases):\n",
    "    \"\"\"\n",
    "    Renvoie chaque mot avec son occurence sous forme de dictionnaire.\n",
    "    \"\"\"\n",
    "    \n",
    "    # Étape 1: on extrait des sous-chaînes délimitées par un des caractères spéciaux (espaces, virgules, etc...)\n",
    "    # définies dans l'expression régulière suivante: [ ,\\n\\'?!—«».;\\-]+ , tout en filtrant les chaînes vides\n",
    "    substrings = [x for x in re.split('[ ,\\n\\'?!—«».;\\-]+', phrases) if x]\n",
    "    \n",
    "    # Étape 2: tout mettre en minuscules\n",
    "    words_iterator = map(lambda x: x.lower(), substrings)\n",
    "    \n",
    "    # Étape 3: remplacer les mots contractés par l'équivalent non contracté\n",
    "    to_replace = {'d':'de', 's':'se', 'l':'le', 'j':'je', 'n':'ne', 'c':'ce', 'jusqu': 'jusque'}\n",
    "    words = list(map(lambda x: to_replace[x] if x in to_replace else x, words_iterator))\n",
    "    \n",
    "    # on retourne un dictionnaire avec le set de mots en clés et le nombre d'occurences en valeurs\n",
    "    return  dict((x , words.count(x)) for x in set(words))"
   ]
  },
  {
   "cell_type": "code",
   "execution_count": 11,
   "id": "27d51201",
   "metadata": {},
   "outputs": [
    {
     "data": {
      "text/plain": [
       "{'petit': 1,\n",
       " 'je': 3,\n",
       " 'déplaise': 1,\n",
       " 'son': 1,\n",
       " 'dit': 2,\n",
       " 'dansez': 1,\n",
       " 'fort': 2,\n",
       " 'vermisseau': 1,\n",
       " 'chez': 1,\n",
       " 'intérêt': 1,\n",
       " 'dépourvue': 1,\n",
       " 'alla': 1,\n",
       " 'fut': 1,\n",
       " 'venue': 1,\n",
       " 'faisiez': 1,\n",
       " 'défaut': 1,\n",
       " 'quand': 1,\n",
       " 'que': 1,\n",
       " 'fourmi': 2,\n",
       " 'animal': 1,\n",
       " 'chaud': 1,\n",
       " 'cigale': 1,\n",
       " 'avant': 1,\n",
       " 'subsister': 1,\n",
       " 'morceau': 1,\n",
       " 'maintenant': 1,\n",
       " 'suis': 1,\n",
       " 'un': 1,\n",
       " 'eh': 1,\n",
       " 'moindre': 1,\n",
       " 'chanté': 1,\n",
       " 'principal': 1,\n",
       " 'chantais': 1,\n",
       " 'chantiez': 1,\n",
       " 'grain': 1,\n",
       " 'saison': 1,\n",
       " 'ne': 2,\n",
       " 'tout': 2,\n",
       " 'ayant': 1,\n",
       " 'elle': 3,\n",
       " 'emprunteuse': 1,\n",
       " 'nuit': 1,\n",
       " 'pas': 2,\n",
       " 'quelque': 1,\n",
       " 'seul': 1,\n",
       " 'mouche': 1,\n",
       " 'paierai': 1,\n",
       " 'là': 1,\n",
       " 'en': 1,\n",
       " 'été': 1,\n",
       " 'se': 1,\n",
       " 'cette': 1,\n",
       " 'sa': 1,\n",
       " 'oût': 1,\n",
       " 'aise': 1,\n",
       " 'prêteuse': 1,\n",
       " 'bien': 1,\n",
       " 'vous': 4,\n",
       " 'de': 4,\n",
       " 'prêter': 1,\n",
       " 'ce': 1,\n",
       " 'trouva': 1,\n",
       " 'et': 2,\n",
       " 'venant': 1,\n",
       " 'la': 6,\n",
       " 'à': 3,\n",
       " 'bise': 1,\n",
       " 'le': 2,\n",
       " 'est': 2,\n",
       " 'famine': 1,\n",
       " 'ou': 1,\n",
       " 'priant': 1,\n",
       " 'foi': 1,\n",
       " 'voisine': 1,\n",
       " 'nouvelle': 1,\n",
       " 'crier': 1,\n",
       " 'lui': 2,\n",
       " 'jusque': 1,\n",
       " 'jour': 1,\n",
       " 'temps': 1,\n",
       " 'pour': 1,\n",
       " 'au': 1}"
      ]
     },
     "execution_count": 11,
     "metadata": {},
     "output_type": "execute_result"
    }
   ],
   "source": [
    "map_reduce(ch)"
   ]
  },
  {
   "cell_type": "code",
   "execution_count": null,
   "id": "d4e5b5b8",
   "metadata": {},
   "outputs": [],
   "source": []
  }
 ],
 "metadata": {
  "kernelspec": {
   "display_name": "Python 3 (ipykernel)",
   "language": "python",
   "name": "python3"
  },
  "language_info": {
   "codemirror_mode": {
    "name": "ipython",
    "version": 3
   },
   "file_extension": ".py",
   "mimetype": "text/x-python",
   "name": "python",
   "nbconvert_exporter": "python",
   "pygments_lexer": "ipython3",
   "version": "3.10.9"
  }
 },
 "nbformat": 4,
 "nbformat_minor": 5
}
